{
 "cells": [
  {
   "cell_type": "code",
   "execution_count": null,
   "id": "9b9b7093",
   "metadata": {},
   "outputs": [],
   "source": [
    "import numpy as np\n",
    "import pandas as pd\n",
    "import re\n",
    "import matplotlib.pyplot as plt\n",
    "from PIL import Image\n",
    "from IPython.display import display\n",
    "import seaborn as sns"
   ]
  },
  {
   "cell_type": "code",
   "execution_count": null,
   "id": "8e17f5fa",
   "metadata": {},
   "outputs": [],
   "source": [
    "pd.options.display.max_columns = 50\n",
    "pd.options.display.max_rows = 50"
   ]
  },
  {
   "cell_type": "code",
   "execution_count": null,
   "id": "a8184f3d",
   "metadata": {},
   "outputs": [],
   "source": [
    "def load_data(file_path):\n",
    "    df = pd.read_csv(file_path, header=0, low_memory = False, memory_map = True)\n",
    "    return df"
   ]
  },
  {
   "cell_type": "code",
   "execution_count": null,
   "id": "34db067b",
   "metadata": {},
   "outputs": [],
   "source": [
    "# --- The Hard-Code'd Rename Dictionary ---\n",
    "# This dictionary explicitly maps each old name (key) to a new name (value).\n",
    "def rename_flood_columns(df):\n",
    "    column_rename_map = {\n",
    "    'agriculturestructureindicator': 'agriculture_structure_indicator',\n",
    "    'basefloodelevation': 'base_flood_elevation',\n",
    "    'basementenclosurecrawlspacetype': 'basement_enclosure_crawlspace_type',\n",
    "    'cancellationdateoffloodpolicy': 'cancellation_date_of_flood_policy',\n",
    "    'censustract': 'census_tract',\n",
    "    'condominiumindicator': 'condominium_indicator',\n",
    "    'construction': 'construction',\n",
    "    'countycode': 'county_code',\n",
    "    'crsdiscount': 'crs_discount',\n",
    "    'deductibleamountinbuildingcoverage': 'deductible_amount_in_building_coverage',\n",
    "    'deductibleamountincontentscoverage': 'deductible_amount_in_contents_coverage',\n",
    "    'elevatedbuildingindicator': 'elevated_building_indicator',\n",
    "    'elevationcertificateindicator': 'elevation_certificate_indicator',\n",
    "    'elevationdifference': 'elevation_difference',\n",
    "    'federalpolicyfee': 'federal_policy_fee',\n",
    "    'floodzone': 'flood_zone',\n",
    "    'hfiaasurcharge': 'hfiaa_surcharge',\n",
    "    'houseofworshipindicator': 'house_of_worship_indicator',\n",
    "    'latitude': 'latitude',\n",
    "    'locationofcontents': 'location_of_contents',\n",
    "    'longitude': 'longitude',\n",
    "    'lowestadjacentgrade': 'lowest_adjacent_grade',\n",
    "    'lowestfloorelevation': 'lowest_floor_elevation',\n",
    "    'nonprofitindicator': 'non_profit_indicator',\n",
    "    'numberoffloorsininsuredbuilding': 'number_of_floors_in_insured_building',\n",
    "    'obstructiontype': 'obstruction_type',\n",
    "    'occupancytype': 'occupancy_type',\n",
    "    'originalconstructiondate': 'original_construction_date',\n",
    "    'originalnbdate': 'original_nb_date',\n",
    "    'policycost': 'policy_cost',\n",
    "    'policycount': 'policy_count',\n",
    "    'policyeffectivedate': 'policy_effective_date',\n",
    "    'policyterminationdate': 'policy_termination_date',\n",
    "    'policytermindicator': 'policy_term_indicator',\n",
    "    'postfirmconstructionindicator': 'post_firm_construction_indicator',\n",
    "    'primaryresidenceindicator': 'primary_residence_indicator',\n",
    "    'propertystate': 'property_state',\n",
    "    'reportedzipcode': 'reported_zipcode',\n",
    "    'ratemethod': 'rate_method',\n",
    "    'regularemergencyprogramindicator': 'regular_emergency_program_indicator',\n",
    "    'reportedcity': 'reported_city',\n",
    "    'smallbusinessindicatorbuilding': 'small_business_indicator_building',\n",
    "    'totalbuildinginsurancecoverage': 'total_building_insurance_coverage',\n",
    "    'totalcontentsinsurancecoverage': 'total_contents_insurance_coverage',\n",
    "    'totalinsurancepremiumofthepolicy': 'total_insurance_premium_of_the_policy'\n",
    "}\n",
    "# --- Apply the renaming ---\n",
    "# The .rename() method creates a new DataFrame with the new column names.\n",
    "# We assign it back to 'df'.\n",
    "    df = flood_policies.rename(columns=column_rename_map)\n",
    "    return df\n"
   ]
  },
  {
   "cell_type": "code",
   "execution_count": null,
   "id": "17bb7e62",
   "metadata": {},
   "outputs": [],
   "source": [
    "def flood_subset(df):\n",
    "    df_subset = df[['flood_zone', 'latitude', 'longitude', 'property_state', 'reported_zipcode', 'reported_city',\n",
    "         'small_business_indicator_building', 'obstruction_type',\n",
    "         'non_profit_indicator', 'house_of_worship_indicator', 'agriculture_structure_indicator',\n",
    "         'cancellation_date_of_flood_policy', 'original_nb_date', 'policy_effective_date', 'policy_termination_date',\n",
    "         'total_building_insurance_coverage', 'total_contents_insurance_coverage', 'total_insurance_premium_of_the_policy', 'premium_rate']]\n",
    "    return df_subset"
   ]
  },
  {
   "cell_type": "code",
   "execution_count": null,
   "id": "f04e94e5",
   "metadata": {},
   "outputs": [],
   "source": []
  }
 ],
 "metadata": {
  "language_info": {
   "name": "python"
  }
 },
 "nbformat": 4,
 "nbformat_minor": 5
}
